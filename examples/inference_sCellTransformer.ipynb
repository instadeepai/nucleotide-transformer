{
  "cells": [
    {
      "cell_type": "markdown",
      "metadata": {
        "id": "edrfY09jfn32"
      },
      "source": [
        "# Inference with sCellTransformer"
      ]
    },
    {
      "cell_type": "markdown",
      "metadata": {},
      "source": [
        "[![Open All Collab](https://colab.research.google.com/assets/colab-badge.svg)](https://colab.research.google.com/github/instadeepai/nucleotide-transformer/blob/main/examples/inference_sCellTransformer.ipynb)"
      ]
    },
    {
      "cell_type": "markdown",
      "metadata": {
        "id": "SWffCMcBfn37"
      },
      "source": [
        "## Installation and imports"
      ]
    },
    {
      "cell_type": "code",
      "execution_count": 1,
      "metadata": {
        "id": "alzkIxk9fn38"
      },
      "outputs": [],
      "source": [
        "import os\n",
        "\n",
        "try:\n",
        "    import nucleotide_transformer\n",
        "except:\n",
        "    !pip install git+https://github.com/instadeepai/nucleotide-transformer@main |tail -n 1\n",
        "    import nucleotide_transformer\n",
        "\n",
        "if \"COLAB_TPU_ADDR\" in os.environ:\n",
        "    from jax.tools import colab_tpu\n",
        "\n",
        "    colab_tpu.setup_tpu()"
      ]
    },
    {
      "cell_type": "code",
      "execution_count": 2,
      "metadata": {
        "colab": {
          "base_uri": "https://localhost:8080/"
        },
        "id": "zkTU4k4_fn39",
        "outputId": "a04ca440-be95-49e1-b683-bf5b70d00777"
      },
      "outputs": [
        {
          "name": "stdout",
          "output_type": "stream",
          "text": [
            "Devices found: [CpuDevice(id=0)]\n"
          ]
        },
        {
          "name": "stderr",
          "output_type": "stream",
          "text": [
            "/opt/miniconda3/envs/debug_segment_enformer/lib/python3.10/site-packages/tqdm/auto.py:21: TqdmWarning: IProgress not found. Please update jupyter and ipywidgets. See https://ipywidgets.readthedocs.io/en/stable/user_install.html\n",
            "  from .autonotebook import tqdm as notebook_tqdm\n"
          ]
        }
      ],
      "source": [
        "import haiku as hk\n",
        "import jax\n",
        "import jax.numpy as jnp\n",
        "import numpy as np\n",
        "import matplotlib.pyplot as plt\n",
        "from nucleotide_transformer.sCellTransformer.model import build_long_range_nt_fn\n",
        "from nucleotide_transformer.sCellTransformer.params import download_ckpt\n",
        "\n",
        "jax.config.update(\"jax_platform_name\", \"cpu\")\n",
        "\n",
        "backend = \"cpu\"\n",
        "devices = jax.devices(backend)\n",
        "num_devices = len(devices)\n",
        "print(f\"Devices found: {devices}\")"
      ]
    },
    {
      "cell_type": "code",
      "execution_count": 3,
      "metadata": {},
      "outputs": [
        {
          "name": "stdout",
          "output_type": "stream",
          "text": [
            "Downloading model's weights...\n"
          ]
        }
      ],
      "source": [
        "parameters, config = download_ckpt()\n",
        "forward_fn = build_long_range_nt_fn(config)"
      ]
    },
    {
      "cell_type": "code",
      "execution_count": 4,
      "metadata": {},
      "outputs": [],
      "source": [
        "forward_fn = hk.transform(forward_fn)\n",
        "apply_fn = jax.pmap(forward_fn.apply, devices=devices, donate_argnums=(0,))\n",
        "\n",
        "# Put required quantities for the inference on the devices. This step is not\n",
        "# reproduced in the second inference since the quantities will already be loaded\n",
        "# on the devices !\n",
        "random_key = jax.random.PRNGKey(seed=0)\n",
        "keys = jax.device_put_replicated(random_key, devices=devices)\n",
        "parameters = jax.device_put_replicated(parameters, devices=devices)"
      ]
    },
    {
      "cell_type": "markdown",
      "metadata": {},
      "source": [
        "# Data"
      ]
    },
    {
      "cell_type": "code",
      "execution_count": 5,
      "metadata": {},
      "outputs": [],
      "source": [
        "num_cells = config.num_cells\n",
        "dummy_gene_expressions = np.random.randint(0, 5, size=(num_devices, 1, 19968 * num_cells))"
      ]
    },
    {
      "cell_type": "markdown",
      "metadata": {
        "id": "yLOOWXYluU7p"
      },
      "source": [
        "## Infer on batch"
      ]
    },
    {
      "cell_type": "code",
      "execution_count": 6,
      "metadata": {
        "colab": {
          "base_uri": "https://localhost:8080/"
        },
        "id": "8LsaW7SJtv2W",
        "outputId": "220db929-098d-4b69-9571-4f98fee2920c"
      },
      "outputs": [
        {
          "name": "stderr",
          "output_type": "stream",
          "text": [
            "/opt/miniconda3/envs/debug_segment_enformer/lib/python3.10/site-packages/jax/_src/interpreters/mlir.py:1178: UserWarning: Some donated buffers were not usable: ShapedArray(float32[1,1024,4096]), ShapedArray(float32[1,2048,1024]), ShapedArray(float32[1,1024]), ShapedArray(float32[1,1024]), ShapedArray(float32[1,1024]), ShapedArray(float32[1,1024,1024]), ShapedArray(float32[1,1024]), ShapedArray(float32[1,1024,1024]), ShapedArray(float32[1,1024]), ShapedArray(float32[1,1024,1024]), ShapedArray(float32[1,1024]), ShapedArray(float32[1,1024,1024]), ShapedArray(float32[1,1024]), ShapedArray(float32[1,1024]), ShapedArray(float32[1,1024,4096]), ShapedArray(float32[1,2048,1024]), ShapedArray(float32[1,1024]), ShapedArray(float32[1,1024]), ShapedArray(float32[1,1024]), ShapedArray(float32[1,1024,1024]), ShapedArray(float32[1,1024]), ShapedArray(float32[1,1024,1024]), ShapedArray(float32[1,1024]), ShapedArray(float32[1,1024,1024]), ShapedArray(float32[1,1024]), ShapedArray(float32[1,1024,1024]), ShapedArray(float32[1,1024]), ShapedArray(float32[1,1024]), ShapedArray(float32[1,1024,4096]), ShapedArray(float32[1,2048,1024]), ShapedArray(float32[1,1024]), ShapedArray(float32[1,1024]), ShapedArray(float32[1,1024]), ShapedArray(float32[1,1024,1024]), ShapedArray(float32[1,1024]), ShapedArray(float32[1,1024,1024]), ShapedArray(float32[1,1024]), ShapedArray(float32[1,1024,1024]), ShapedArray(float32[1,1024]), ShapedArray(float32[1,1024,1024]), ShapedArray(float32[1,1024]), ShapedArray(float32[1,1024]), ShapedArray(float32[1,1024,4096]), ShapedArray(float32[1,2048,1024]), ShapedArray(float32[1,1024]), ShapedArray(float32[1,1024]), ShapedArray(float32[1,1024]), ShapedArray(float32[1,1024,1024]), ShapedArray(float32[1,1024]), ShapedArray(float32[1,1024,1024]), ShapedArray(float32[1,1024]), ShapedArray(float32[1,1024,1024]), ShapedArray(float32[1,1024]), ShapedArray(float32[1,1024,1024]), ShapedArray(float32[1,1024]), ShapedArray(float32[1,1024]), ShapedArray(float32[1,192,1]), ShapedArray(float32[1,5,64,192]), ShapedArray(float32[1,19968]), ShapedArray(float32[1,19968]), ShapedArray(float32[1,192,1]), ShapedArray(float32[1,1,192,192]), ShapedArray(float32[1,19968]), ShapedArray(float32[1,19968]), ShapedArray(float32[1,320,1]), ShapedArray(float32[1,5,192,320]), ShapedArray(float32[1,9984]), ShapedArray(float32[1,9984]), ShapedArray(float32[1,320,1]), ShapedArray(float32[1,1,320,320]), ShapedArray(float32[1,9984]), ShapedArray(float32[1,9984]), ShapedArray(float32[1,448,1]), ShapedArray(float32[1,5,320,448]), ShapedArray(float32[1,4992]), ShapedArray(float32[1,4992]), ShapedArray(float32[1,448,1]), ShapedArray(float32[1,1,448,448]), ShapedArray(float32[1,4992]), ShapedArray(float32[1,4992]), ShapedArray(float32[1,544,1]), ShapedArray(float32[1,5,448,544]), ShapedArray(float32[1,2496]), ShapedArray(float32[1,2496]), ShapedArray(float32[1,544,1]), ShapedArray(float32[1,1,544,544]), ShapedArray(float32[1,2496]), ShapedArray(float32[1,2496]), ShapedArray(float32[1,672,1]), ShapedArray(float32[1,5,544,672]), ShapedArray(float32[1,1248]), ShapedArray(float32[1,1248]), ShapedArray(float32[1,672,1]), ShapedArray(float32[1,1,672,672]), ShapedArray(float32[1,1248]), ShapedArray(float32[1,1248]), ShapedArray(float32[1,800,1]), ShapedArray(float32[1,5,672,800]), ShapedArray(float32[1,624]), ShapedArray(float32[1,624]), ShapedArray(float32[1,800,1]), ShapedArray(float32[1,1,800,800]), ShapedArray(float32[1,624]), ShapedArray(float32[1,624]), ShapedArray(float32[1,928,1]), ShapedArray(float32[1,5,800,928]), ShapedArray(float32[1,312]), ShapedArray(float32[1,312]), ShapedArray(float32[1,928,1]), ShapedArray(float32[1,1,928,928]), ShapedArray(float32[1,312]), ShapedArray(float32[1,312]), ShapedArray(float32[1,1024,1]), ShapedArray(float32[1,5,928,1024]), ShapedArray(float32[1,156]), ShapedArray(float32[1,156]), ShapedArray(float32[1,1024,1]), ShapedArray(float32[1,1,1024,1024]), ShapedArray(float32[1,156]), ShapedArray(float32[1,156]), ShapedArray(float32[1,928,1]), ShapedArray(float32[1,5,928,1024]), ShapedArray(float32[1,78]), ShapedArray(float32[1,78]), ShapedArray(float32[1,928,1]), ShapedArray(float32[1,1,928,928]), ShapedArray(float32[1,156]), ShapedArray(float32[1,156]), ShapedArray(float32[1,800,1]), ShapedArray(float32[1,5,800,928]), ShapedArray(float32[1,156]), ShapedArray(float32[1,156]), ShapedArray(float32[1,800,1]), ShapedArray(float32[1,1,800,800]), ShapedArray(float32[1,312]), ShapedArray(float32[1,312]), ShapedArray(float32[1,672,1]), ShapedArray(float32[1,5,672,800]), ShapedArray(float32[1,312]), ShapedArray(float32[1,312]), ShapedArray(float32[1,672,1]), ShapedArray(float32[1,1,672,672]), ShapedArray(float32[1,624]), ShapedArray(float32[1,624]), ShapedArray(float32[1,544,1]), ShapedArray(float32[1,5,544,672]), ShapedArray(float32[1,624]), ShapedArray(float32[1,624]), ShapedArray(float32[1,544,1]), ShapedArray(float32[1,1,544,544]), ShapedArray(float32[1,1248]), ShapedArray(float32[1,1248]), ShapedArray(float32[1,448,1]), ShapedArray(float32[1,5,448,544]), ShapedArray(float32[1,1248]), ShapedArray(float32[1,1248]), ShapedArray(float32[1,448,1]), ShapedArray(float32[1,1,448,448]), ShapedArray(float32[1,2496]), ShapedArray(float32[1,2496]), ShapedArray(float32[1,320,1]), ShapedArray(float32[1,5,320,448]), ShapedArray(float32[1,2496]), ShapedArray(float32[1,2496]), ShapedArray(float32[1,320,1]), ShapedArray(float32[1,1,320,320]), ShapedArray(float32[1,4992]), ShapedArray(float32[1,4992]), ShapedArray(float32[1,192,1]), ShapedArray(float32[1,5,192,320]), ShapedArray(float32[1,4992]), ShapedArray(float32[1,4992]), ShapedArray(float32[1,192,1]), ShapedArray(float32[1,1,192,192]), ShapedArray(float32[1,9984]), ShapedArray(float32[1,9984]), ShapedArray(float32[1,64,1]), ShapedArray(float32[1,5,64,192]), ShapedArray(float32[1,9984]), ShapedArray(float32[1,9984]), ShapedArray(float32[1,64,1]), ShapedArray(float32[1,1,64,64]), ShapedArray(float32[1,19968]), ShapedArray(float32[1,19968]), ShapedArray(float32[1,1024]), ShapedArray(float32[1,64,1024]), ShapedArray(float32[1,7]), ShapedArray(float32[1,1024,7]), ShapedArray(float32[1,64,1]), ShapedArray(float32[1,15,64,64]), ShapedArray(float32[1,7,64]).\n",
            "See an explanation at https://jax.readthedocs.io/en/latest/faq.html#buffer-donation.\n",
            "  warnings.warn(\"Some donated buffers were not usable:\"\n"
          ]
        }
      ],
      "source": [
        "# Infer\n",
        "outs = apply_fn(parameters, keys, dummy_gene_expressions) \n",
        "\n",
        "# Obtain the logits over the genomic features\n",
        "logits = outs[\"logits\"]\n",
        "probabilities = np.asarray(jax.nn.softmax(logits[0, :, :, :5], axis=-1))[...,-1]"
      ]
    },
    {
      "cell_type": "code",
      "execution_count": 7,
      "metadata": {
        "colab": {
          "base_uri": "https://localhost:8080/"
        },
        "id": "p7F_gS2ItzDa",
        "outputId": "4bc9c3c4-5673-433f-bd0a-7190704447f6"
      },
      "outputs": [
        {
          "data": {
            "text/plain": [
              "(1, 998400)"
            ]
          },
          "execution_count": 7,
          "metadata": {},
          "output_type": "execute_result"
        }
      ],
      "source": [
        "probabilities.shape"
      ]
    }
  ],
  "metadata": {
    "accelerator": "GPU",
    "colab": {
      "gpuType": "T4",
      "provenance": []
    },
    "kernelspec": {
      "display_name": "debug_segment_enformer",
      "language": "python",
      "name": "python3"
    },
    "language_info": {
      "codemirror_mode": {
        "name": "ipython",
        "version": 3
      },
      "file_extension": ".py",
      "mimetype": "text/x-python",
      "name": "python",
      "nbconvert_exporter": "python",
      "pygments_lexer": "ipython3",
      "version": "3.10.16"
    }
  },
  "nbformat": 4,
  "nbformat_minor": 0
}
