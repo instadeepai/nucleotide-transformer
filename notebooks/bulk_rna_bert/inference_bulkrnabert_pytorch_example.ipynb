{
 "cells": [
  {
   "cell_type": "markdown",
   "metadata": {},
   "source": [
    "# Inference with BulkRNABert - PyTorch version from HuggingFace"
   ]
  },
  {
   "cell_type": "markdown",
   "metadata": {},
   "source": [
    "[![Open All Collab](https://colab.research.google.com/assets/colab-badge.svg)](https://colab.research.google.com/github/instadeepai/nucleotide-transformer/blob/main/notebooks/bulk_rna_bert/inference_bulkrnabert_pytorch_example.ipynb)"
   ]
  },
  {
   "cell_type": "markdown",
   "metadata": {},
   "source": [
    "## Installation and imports"
   ]
  },
  {
   "cell_type": "code",
   "execution_count": null,
   "outputs": [],
   "source": [
    "!pip install pandas\n",
    "!pip install transformers\n",
    "!pip install torch"
   ],
   "metadata": {
    "collapsed": false
   }
  },
  {
   "cell_type": "code",
   "execution_count": null,
   "metadata": {
    "ExecuteTime": {
     "end_time": "2025-06-06T07:50:47.544612Z",
     "start_time": "2025-06-06T07:50:47.538478Z"
    }
   },
   "outputs": [],
   "source": [
    "try:\n",
    "    import nucleotide_transformer\n",
    "except:\n",
    "    !pip install git+https://github.com/instadeepai/nucleotide-transformer@main | tail -n 1\n",
    "    import nucleotide_transformer"
   ]
  },
  {
   "cell_type": "code",
   "execution_count": null,
   "metadata": {
    "ExecuteTime": {
     "end_time": "2025-06-06T07:50:52.872346Z",
     "start_time": "2025-06-06T07:50:48.163017Z"
    }
   },
   "outputs": [],
   "source": [
    "from huggingface_hub import hf_hub_download\n",
    "import numpy as np\n",
    "import pandas as pd\n",
    "from transformers import AutoConfig, AutoModel, AutoTokenizer"
   ]
  },
  {
   "cell_type": "markdown",
   "metadata": {},
   "source": [
    "# Load model"
   ]
  },
  {
   "cell_type": "code",
   "execution_count": null,
   "metadata": {
    "ExecuteTime": {
     "end_time": "2025-06-06T07:50:57.729403Z",
     "start_time": "2025-06-06T07:50:54.022075Z"
    }
   },
   "outputs": [],
   "source": [
    "# Load model and tokenizer from Hugging Face\n",
    "config = AutoConfig.from_pretrained(\n",
    "    \"InstaDeepAI/BulkRNABert\",\n",
    "    trust_remote_code=True,\n",
    ")\n",
    "config.embeddings_layers_to_save = (4,) # last transformer layer\n",
    "\n",
    "tokenizer = AutoTokenizer.from_pretrained(\"InstaDeepAI/BulkRNABert\", trust_remote_code=True)\n",
    "model = AutoModel.from_pretrained(\n",
    "    \"InstaDeepAI/BulkRNABert\",\n",
    "    config=config,\n",
    "    trust_remote_code=True,\n",
    ")"
   ]
  },
  {
   "cell_type": "markdown",
   "metadata": {},
   "source": [
    "## Download the data"
   ]
  },
  {
   "cell_type": "code",
   "execution_count": null,
   "metadata": {
    "ExecuteTime": {
     "end_time": "2025-06-06T07:56:21.091995Z",
     "start_time": "2025-06-06T07:55:07.965186Z"
    }
   },
   "outputs": [],
   "source": [
    "# Downloading the bulk RNA-seq file from HuggingFace\n",
    "csv_path = hf_hub_download(\n",
    "    repo_id=\"InstaDeepAI/BulkRNABert\",\n",
    "    filename=\"data/tcga_sample.csv\",\n",
    "    repo_type=\"model\",\n",
    ")"
   ]
  },
  {
   "cell_type": "markdown",
   "metadata": {},
   "source": [
    "# Load dataset and preprocess"
   ]
  },
  {
   "cell_type": "code",
   "execution_count": null,
   "metadata": {
    "ExecuteTime": {
     "end_time": "2025-06-06T07:56:41.705799Z",
     "start_time": "2025-06-06T07:56:41.675371Z"
    }
   },
   "outputs": [],
   "source": [
    "gene_expression_array = pd.read_csv(csv_path).drop([\"identifier\"], axis=1).to_numpy()[:1, :]\n",
    "gene_expression_array = np.log10(1 + gene_expression_array)\n",
    "assert gene_expression_array.shape[1] == config.n_genes\n",
    "\n",
    "# Tokenize\n",
    "gene_expression_ids = tokenizer.batch_encode_plus(gene_expression_array, return_tensors=\"pt\")[\"input_ids\"]"
   ]
  },
  {
   "cell_type": "markdown",
   "source": [
    "# Inference"
   ],
   "metadata": {
    "collapsed": false
   }
  },
  {
   "cell_type": "code",
   "execution_count": null,
   "outputs": [],
   "source": [
    "# Compute BulkRNABert's embeddings\n",
    "gene_expression_mean_embeddings = model(gene_expression_ids)[\"embeddings_4\"].mean(axis=1)  # embeddings can be used for downstream tasks."
   ],
   "metadata": {
    "collapsed": false,
    "pycharm": {
     "is_executing": true
    }
   }
  }
 ],
 "metadata": {
  "kernelspec": {
   "display_name": "genomics-research-env",
   "language": "python",
   "name": "python3"
  },
  "language_info": {
   "codemirror_mode": {
    "name": "ipython",
    "version": 3
   },
   "file_extension": ".py",
   "mimetype": "text/x-python",
   "name": "python",
   "nbconvert_exporter": "python",
   "pygments_lexer": "ipython3",
   "version": "3.11.10"
  }
 },
 "nbformat": 4,
 "nbformat_minor": 2
}
