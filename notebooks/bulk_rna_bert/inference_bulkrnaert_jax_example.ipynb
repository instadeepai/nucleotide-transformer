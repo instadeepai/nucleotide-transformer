{
 "cells": [
  {
   "cell_type": "markdown",
   "source": [
    "# Inference with BulkRNABert - Jax version"
   ],
   "metadata": {
    "collapsed": false
   }
  },
  {
   "cell_type": "markdown",
   "metadata": {},
   "source": [
    "[![Open All Collab](https://colab.research.google.com/assets/colab-badge.svg)](https://colab.research.google.com/github/instadeepai/nucleotide-transformer/blob/main/notebooks/bulk_rna_bert/inference_bulkrnabert_jax_example.ipynb)"
   ]
  },
  {
   "cell_type": "markdown",
   "metadata": {
    "id": "SWffCMcBfn37"
   },
   "source": [
    "## Installation and imports"
   ]
  },
  {
   "cell_type": "code",
   "execution_count": 1,
   "outputs": [
    {
     "name": "stdout",
     "output_type": "stream",
     "text": [
      "Requirement already satisfied: pandas in /Users/maxencegelard/miniconda3/envs/nucleotide-transformer-private/lib/python3.10/site-packages (2.3.0)\r\n",
      "Requirement already satisfied: numpy>=1.22.4 in /Users/maxencegelard/miniconda3/envs/nucleotide-transformer-private/lib/python3.10/site-packages (from pandas) (2.2.6)\r\n",
      "Requirement already satisfied: python-dateutil>=2.8.2 in /Users/maxencegelard/miniconda3/envs/nucleotide-transformer-private/lib/python3.10/site-packages (from pandas) (2.9.0.post0)\r\n",
      "Requirement already satisfied: pytz>=2020.1 in /Users/maxencegelard/miniconda3/envs/nucleotide-transformer-private/lib/python3.10/site-packages (from pandas) (2025.2)\r\n",
      "Requirement already satisfied: tzdata>=2022.7 in /Users/maxencegelard/miniconda3/envs/nucleotide-transformer-private/lib/python3.10/site-packages (from pandas) (2025.2)\r\n",
      "Requirement already satisfied: six>=1.5 in /Users/maxencegelard/miniconda3/envs/nucleotide-transformer-private/lib/python3.10/site-packages (from python-dateutil>=2.8.2->pandas) (1.17.0)\r\n"
     ]
    }
   ],
   "source": [
    "!pip install pandas"
   ],
   "metadata": {
    "collapsed": false
   }
  },
  {
   "cell_type": "code",
   "execution_count": null,
   "metadata": {
    "ExecuteTime": {
     "end_time": "2025-06-06T08:05:38.619015Z",
     "start_time": "2025-06-06T08:05:38.610404Z"
    },
    "id": "alzkIxk9fn38"
   },
   "outputs": [],
   "source": [
    "import os\n",
    "\n",
    "try:\n",
    "    import nucleotide_transformer\n",
    "except:\n",
    "    !pip install git+https://github.com/instadeepai/nucleotide-transformer@main |tail -n 1\n",
    "    import nucleotide_transformer\n",
    "\n",
    "if \"COLAB_TPU_ADDR\" in os.environ:\n",
    "    from jax.tools import colab_tpu\n",
    "\n",
    "    colab_tpu.setup_tpu()"
   ]
  },
  {
   "cell_type": "code",
   "execution_count": null,
   "metadata": {
    "ExecuteTime": {
     "end_time": "2025-06-06T08:05:42.565213Z",
     "start_time": "2025-06-06T08:05:39.457648Z"
    },
    "colab": {
     "base_uri": "https://localhost:8080/"
    },
    "id": "zkTU4k4_fn39",
    "outputId": "a04ca440-be95-49e1-b683-bf5b70d00777"
   },
   "outputs": [],
   "source": [
    "import haiku as hk\n",
    "from huggingface_hub import hf_hub_download\n",
    "import jax\n",
    "import jax.numpy as jnp\n",
    "import numpy as np\n",
    "import pandas as pd\n",
    "\n",
    "from nucleotide_transformer.bulk_rna_bert.pretrained import get_pretrained_bulkrnabert_model"
   ]
  },
  {
   "cell_type": "markdown",
   "source": [
    "# Load model"
   ],
   "metadata": {
    "collapsed": false
   }
  },
  {
   "cell_type": "code",
   "execution_count": null,
   "outputs": [],
   "source": [
    "parameters, forward_fn, tokenizer, config = get_pretrained_bulkrnabert_model(\n",
    "    embeddings_layers_to_save=(4,),\n",
    ")\n",
    "forward_fn = hk.transform(forward_fn)"
   ],
   "metadata": {
    "collapsed": false,
    "pycharm": {
     "is_executing": true
    }
   }
  },
  {
   "cell_type": "markdown",
   "source": [
    "## Download the data"
   ],
   "metadata": {
    "collapsed": false
   }
  },
  {
   "cell_type": "code",
   "execution_count": null,
   "outputs": [],
   "source": [
    "# Downloading the bulk RNA-seq file from HuggingFace\n",
    "csv_path = hf_hub_download(\n",
    "    repo_id=\"InstaDeepAI/BulkRNABert\",\n",
    "    filename=\"data/tcga_sample.csv\",\n",
    "    repo_type=\"model\",\n",
    ")"
   ],
   "metadata": {
    "collapsed": false,
    "pycharm": {
     "is_executing": true
    }
   }
  },
  {
   "cell_type": "markdown",
   "source": [
    "# Load dataset and preprocess"
   ],
   "metadata": {
    "collapsed": false
   }
  },
  {
   "cell_type": "code",
   "execution_count": null,
   "outputs": [],
   "source": [
    "gene_expression_array = pd.read_csv(csv_path).drop([\"identifier\"], axis=1).to_numpy()[:1, :]\n",
    "gene_expression_array = np.log10(1 + gene_expression_array)\n",
    "assert gene_expression_array.shape[1] == config.n_genes\n",
    "\n",
    "# Tokenize\n",
    "gene_expression_ids = tokenizer.batch_tokenize(gene_expression_array)\n",
    "gene_expression_ids = jnp.asarray(gene_expression_ids, dtype=jnp.int32)"
   ],
   "metadata": {
    "collapsed": false
   }
  },
  {
   "cell_type": "markdown",
   "source": [
    "# Inference"
   ],
   "metadata": {
    "collapsed": false
   }
  },
  {
   "cell_type": "code",
   "execution_count": null,
   "outputs": [],
   "source": [
    "# Inference\n",
    "random_key = jax.random.PRNGKey(0)\n",
    "outs = forward_fn.apply(parameters, random_key, gene_expression_ids)\n",
    "\n",
    "# Get mean embeddings from layer 4\n",
    "gene_expression_mean_embeddings = outs[\"embeddings_4\"].mean(axis=1)"
   ],
   "metadata": {
    "collapsed": false
   }
  }
 ],
 "metadata": {
  "accelerator": "GPU",
  "colab": {
   "gpuType": "T4",
   "provenance": []
  },
  "kernelspec": {
   "display_name": "debug_segment_enformer",
   "language": "python",
   "name": "python3"
  },
  "language_info": {
   "codemirror_mode": {
    "name": "ipython",
    "version": 3
   },
   "file_extension": ".py",
   "mimetype": "text/x-python",
   "name": "python",
   "nbconvert_exporter": "python",
   "pygments_lexer": "ipython3",
   "version": "3.10.16"
  }
 },
 "nbformat": 4,
 "nbformat_minor": 0
}
