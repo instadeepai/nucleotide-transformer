{
 "cells": [
  {
   "cell_type": "markdown",
   "source": [
    "# Inference with MOJO - Jax version"
   ],
   "metadata": {
    "collapsed": false
   }
  },
  {
   "cell_type": "markdown",
   "metadata": {},
   "source": [
    "[![Open All Collab](https://colab.research.google.com/assets/colab-badge.svg)](https://colab.research.google.com/github/instadeepai/nucleotide-transformer/blob/main/notebooks/mojo/inference_mojo_jax_example.ipynb)"
   ]
  },
  {
   "cell_type": "markdown",
   "metadata": {
    "id": "SWffCMcBfn37"
   },
   "source": [
    "## Installation and imports"
   ]
  },
  {
   "cell_type": "code",
   "execution_count": null,
   "outputs": [],
   "source": [
    "!pip install pandas"
   ],
   "metadata": {
    "collapsed": false
   }
  },
  {
   "cell_type": "code",
   "execution_count": null,
   "metadata": {
    "ExecuteTime": {
     "end_time": "2025-06-06T08:05:38.619015Z",
     "start_time": "2025-06-06T08:05:38.610404Z"
    },
    "id": "alzkIxk9fn38"
   },
   "outputs": [],
   "source": [
    "import os\n",
    "\n",
    "try:\n",
    "    import nucleotide_transformer\n",
    "except:\n",
    "    !pip install git+https://github.com/instadeepai/nucleotide-transformer@main |tail -n 1\n",
    "    import nucleotide_transformer\n",
    "\n",
    "if \"COLAB_TPU_ADDR\" in os.environ:\n",
    "    from jax.tools import colab_tpu\n",
    "\n",
    "    colab_tpu.setup_tpu()"
   ]
  },
  {
   "cell_type": "code",
   "execution_count": null,
   "metadata": {
    "ExecuteTime": {
     "end_time": "2025-06-06T08:05:42.565213Z",
     "start_time": "2025-06-06T08:05:39.457648Z"
    },
    "colab": {
     "base_uri": "https://localhost:8080/"
    },
    "id": "zkTU4k4_fn39",
    "outputId": "a04ca440-be95-49e1-b683-bf5b70d00777"
   },
   "outputs": [],
   "source": [
    "import haiku as hk\n",
    "from huggingface_hub import hf_hub_download\n",
    "import jax\n",
    "import jax.numpy as jnp\n",
    "import numpy as np\n",
    "import pandas as pd\n",
    "\n",
    "from nucleotide_transformer.mojo.pretrained import get_mojo_pretrained_model"
   ]
  },
  {
   "cell_type": "markdown",
   "source": [
    "# Load model\n"
   ],
   "metadata": {
    "collapsed": false
   }
  },
  {
   "cell_type": "code",
   "execution_count": null,
   "outputs": [],
   "source": [
    "# Get pretrained MOJO model\n",
    "parameters, forward_fn, tokenizers, config = get_mojo_pretrained_model()\n",
    "forward_fn = hk.transform(forward_fn)"
   ],
   "metadata": {
    "collapsed": false,
    "pycharm": {
     "is_executing": true
    }
   }
  },
  {
   "cell_type": "markdown",
   "source": [
    "## Download, load and preprocess the data"
   ],
   "metadata": {
    "collapsed": false
   }
  },
  {
   "cell_type": "code",
   "execution_count": null,
   "outputs": [],
   "source": [
    "n_examples = 4\n",
    "omic_dict = {}\n",
    "\n",
    "for omic in [\"rnaseq\", \"methylation\"]:\n",
    "    csv_path = hf_hub_download(\n",
    "        repo_id=\"InstaDeepAI/MOJO\",\n",
    "        filename=f\"data/tcga_{omic}_sample.csv\",\n",
    "        repo_type=\"model\",\n",
    "    )\n",
    "    omic_array = pd.read_csv(csv_path).drop([\"identifier\", \"cohort\"], axis=1).to_numpy()[:n_examples, :]\n",
    "    if omic == \"rnaseq\":\n",
    "        omic_array = np.log10(1 + omic_array)\n",
    "    assert omic_array.shape[1] == config.sequence_length\n",
    "    omic_dict[omic] = omic_array"
   ],
   "metadata": {
    "collapsed": false,
    "pycharm": {
     "is_executing": true
    }
   }
  },
  {
   "cell_type": "code",
   "execution_count": null,
   "outputs": [],
   "source": [
    "tokens_ids = {\n",
    "    omic: jnp.asarray(tokenizers[omic].batch_tokenize(omic_array, pad_to_fixed_length=True), dtype=jnp.int32)\n",
    "    for omic, omic_array in omic_dict.items()\n",
    "}"
   ],
   "metadata": {
    "collapsed": false
   }
  },
  {
   "cell_type": "markdown",
   "source": [
    "# Inference"
   ],
   "metadata": {
    "collapsed": false
   }
  },
  {
   "cell_type": "code",
   "execution_count": null,
   "outputs": [],
   "source": [
    "# Inference\n",
    "random_key = jax.random.PRNGKey(0)\n",
    "outs = forward_fn.apply(parameters, random_key, tokens_ids)\n",
    "\n",
    "# Get embedding from last transformer layer\n",
    "mean_embedding = outs[\"after_transformer_embedding\"].mean(axis=1)"
   ],
   "metadata": {
    "collapsed": false
   }
  }
 ],
 "metadata": {
  "accelerator": "GPU",
  "colab": {
   "gpuType": "T4",
   "provenance": []
  },
  "kernelspec": {
   "display_name": "debug_segment_enformer",
   "language": "python",
   "name": "python3"
  },
  "language_info": {
   "codemirror_mode": {
    "name": "ipython",
    "version": 3
   },
   "file_extension": ".py",
   "mimetype": "text/x-python",
   "name": "python",
   "nbconvert_exporter": "python",
   "pygments_lexer": "ipython3",
   "version": "3.10.16"
  }
 },
 "nbformat": 4,
 "nbformat_minor": 0
}
