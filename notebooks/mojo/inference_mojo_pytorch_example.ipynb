{
 "cells": [
  {
   "cell_type": "markdown",
   "metadata": {},
   "source": [
    "# Inference with MOJO - PyTorch version from HuggingFace"
   ]
  },
  {
   "cell_type": "markdown",
   "metadata": {},
   "source": [
    "\n",
    "[![Open All Collab](https://colab.research.google.com/assets/colab-badge.svg)](https://colab.research.google.com/github/instadeepai/nucleotide-transformer/blob/main/notebooks/mojo/inference_mojo_pytorch_example.ipynb)"
   ]
  },
  {
   "cell_type": "markdown",
   "metadata": {},
   "source": [
    "## Installation and imports"
   ]
  },
  {
   "cell_type": "code",
   "execution_count": null,
   "outputs": [],
   "source": [
    "!pip install pandas\n",
    "!pip install transformers\n",
    "!pip install torch"
   ],
   "metadata": {
    "collapsed": false
   }
  },
  {
   "cell_type": "code",
   "execution_count": null,
   "metadata": {
    "ExecuteTime": {
     "end_time": "2025-06-06T07:50:47.544612Z",
     "start_time": "2025-06-06T07:50:47.538478Z"
    }
   },
   "outputs": [],
   "source": [
    "try:\n",
    "    import nucleotide_transformer\n",
    "except:\n",
    "    !pip install git+https://github.com/instadeepai/nucleotide-transformer@main | tail -n 1\n",
    "    import nucleotide_transformer"
   ]
  },
  {
   "cell_type": "code",
   "execution_count": null,
   "metadata": {
    "ExecuteTime": {
     "end_time": "2025-06-06T07:50:52.872346Z",
     "start_time": "2025-06-06T07:50:48.163017Z"
    }
   },
   "outputs": [],
   "source": [
    "import numpy as np\n",
    "import pandas as pd\n",
    "from transformers import AutoModel, AutoTokenizer\n",
    "from huggingface_hub import hf_hub_download"
   ]
  },
  {
   "cell_type": "markdown",
   "metadata": {},
   "source": [
    "# Load model"
   ]
  },
  {
   "cell_type": "code",
   "execution_count": null,
   "metadata": {
    "ExecuteTime": {
     "end_time": "2025-06-06T07:50:57.729403Z",
     "start_time": "2025-06-06T07:50:54.022075Z"
    }
   },
   "outputs": [],
   "source": [
    "tokenizer = AutoTokenizer.from_pretrained(\"InstaDeepAI/MOJO\", trust_remote_code=True)\n",
    "model = AutoModel.from_pretrained(\n",
    "    \"InstaDeepAI/MOJO\",\n",
    "    trust_remote_code=True,\n",
    ")"
   ]
  },
  {
   "cell_type": "markdown",
   "metadata": {},
   "source": [
    "## Download, load and preprocess the data"
   ]
  },
  {
   "cell_type": "code",
   "execution_count": null,
   "metadata": {
    "ExecuteTime": {
     "end_time": "2025-06-06T07:56:21.091995Z",
     "start_time": "2025-06-06T07:55:07.965186Z"
    }
   },
   "outputs": [],
   "source": [
    "n_examples = 4\n",
    "omic_dict = {}\n",
    "\n",
    "for omic in [\"rnaseq\", \"methylation\"]:\n",
    "    csv_path = hf_hub_download(\n",
    "        repo_id=\"InstaDeepAI/MOJO\",\n",
    "        filename=f\"data/tcga_{omic}_sample.csv\",\n",
    "        repo_type=\"model\",\n",
    "    )\n",
    "    omic_array = pd.read_csv(csv_path).drop([\"identifier\", \"cohort\"], axis=1).to_numpy()[:n_examples, :]\n",
    "    if omic == \"rnaseq\":\n",
    "        omic_array = np.log10(1 + omic_array)\n",
    "    assert omic_array.shape[1] == model.config.sequence_length\n",
    "    omic_dict[omic] = omic_array"
   ]
  },
  {
   "cell_type": "code",
   "execution_count": null,
   "outputs": [],
   "source": [
    "omic_ids = {\n",
    "    omic: tokens[\"input_ids\"]\n",
    "    for omic, tokens in tokenizer.batch_encode_plus(omic_dict, pad_to_fixed_length=True, return_tensors=\"pt\").items()\n",
    "}"
   ],
   "metadata": {
    "collapsed": false
   }
  },
  {
   "cell_type": "markdown",
   "source": [
    "# Inference"
   ],
   "metadata": {
    "collapsed": false
   }
  },
  {
   "cell_type": "code",
   "execution_count": null,
   "outputs": [],
   "source": [
    "omic_mean_embeddings = model(omic_ids)[\"after_transformer_embedding\"].mean(axis=1) # embeddings can be used for downstream tasks."
   ],
   "metadata": {
    "collapsed": false,
    "pycharm": {
     "is_executing": true
    }
   }
  }
 ],
 "metadata": {
  "kernelspec": {
   "display_name": "genomics-research-env",
   "language": "python",
   "name": "python3"
  },
  "language_info": {
   "codemirror_mode": {
    "name": "ipython",
    "version": 3
   },
   "file_extension": ".py",
   "mimetype": "text/x-python",
   "name": "python",
   "nbconvert_exporter": "python",
   "pygments_lexer": "ipython3",
   "version": "3.11.10"
  }
 },
 "nbformat": 4,
 "nbformat_minor": 2
}
